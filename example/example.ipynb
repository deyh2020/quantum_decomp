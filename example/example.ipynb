{
 "cells": [
  {
   "cell_type": "markdown",
   "metadata": {},
   "source": [
    "# Decomposing unitary matrix into quantum gates\n",
    "\n",
    "This tool is useful when you have $2^n \\times 2^n$ matrix representing a untary operator acting on register of $n$ bits and want to implement this operator in Q#.\n",
    "\n",
    "This tool decomposes matrix into sequence of two-level unitary matrices using technique proposed in [1] and then implements each two-le\n"
   ]
  },
  {
   "cell_type": "markdown",
   "metadata": {},
   "source": [
    "## Example\n",
    "\n",
    "Consider following matrix:\n",
    "\n",
    "$$\\frac{1}{\\sqrt{3}}\n",
    "\\begin{bmatrix}\n",
    "    1  & 1 & 1 & 0 \\\\\n",
    "    1  & e^{\\frac{2\\pi i}{3}} & e^{\\frac{4 \\pi i}{3}} & 0 \\\\\n",
    "    1  & e^{\\frac{4\\pi i}{3}} & e^{\\frac{2 \\pi i}{3}} & 0 \\\\\n",
    "    0 & 0 & 0 & \\sqrt{3} \n",
    "\\end{bmatrix}$$\n",
    "\n",
    "This is $3\\times 3$ [DFT matrix](https://en.wikipedia.org/wiki/DFT_matrix), padded to have shape $4 \\times 4$. Implementing such matrix was one way to solve problem B2 in [Microsoft Q# Coding Contest - Winter 2019](https://codeforces.com/blog/entry/65579).\n",
    "[Here](https://assets.codeforces.com/rounds/1116/contest-editorial.pdf) you can find another approach to implementing this matrix, but let's see how we can implement it using our tool and Q#.\n",
    "\n",
    "First, let's construct this matrix:"
   ]
  },
  {
   "cell_type": "code",
   "execution_count": 8,
   "metadata": {},
   "outputs": [
    {
     "name": "stdout",
     "output_type": "stream",
     "text": [
      "[[ 0.57735027+0.j   0.57735027+0.j   0.57735027+0.j   0.        +0.j ]\n",
      " [ 0.57735027+0.j  -0.28867513+0.5j -0.28867513-0.5j  0.        +0.j ]\n",
      " [ 0.57735027+0.j  -0.28867513-0.5j -0.28867513+0.5j  0.        +0.j ]\n",
      " [ 0.        +0.j   0.        +0.j   0.        +0.j   1.        +0.j ]]\n"
     ]
    }
   ],
   "source": [
    "import numpy as np\n",
    "w = np.exp((2j / 3) * np.pi)\n",
    "A = np.array([[1, 1, 1, 0], \n",
    "                  [1, w, w * w, 0],\n",
    "                  [1, w * w, w, 0], \n",
    "                  [0, 0, 0, np.sqrt(3)]]) / np.sqrt(3)\n",
    "print(A)"
   ]
  },
  {
   "cell_type": "markdown",
   "metadata": {},
   "source": [
    "Now, let's use quantum_decomp library to construct Q# code."
   ]
  },
  {
   "cell_type": "code",
   "execution_count": 10,
   "metadata": {
    "scrolled": true
   },
   "outputs": [
    {
     "name": "stdout",
     "output_type": "stream",
     "text": [
      "operation ApplyUnitaryMatrix (qs : Qubit[]) : Unit {\n",
      "body (...) {\n",
      "    Controlled Ry([qs[1]], (-3.141592653589793, qs[0]));\n",
      "    Controlled R1([qs[1]], (3.141592653589793, qs[0]));\n",
      "    Controlled Ry([qs[0]], (-1.570796326794897, qs[1]));\n",
      "    Controlled R1([qs[0]], (3.141592653589793, qs[1]));\n",
      "    X(qs[1]);\n",
      "    Controlled Ry([qs[1]], (-1.910633236249018, qs[0]));\n",
      "    Controlled R1([qs[1]], (3.141592653589793, qs[0]));\n",
      "    X(qs[1]);\n",
      "    Controlled Rz([qs[0]], (1.570796326794896, qs[1]));\n",
      "    Controlled Ry([qs[0]], (-1.570796326794897, qs[1]));\n",
      "    Controlled Rz([qs[0]], (-1.570796326794896, qs[1]));\n",
      "    Controlled R1([qs[0]], (3.141592653589793, qs[1]));\n",
      "    Controlled Rz([qs[1]], (1.570796326794897, qs[0]));\n",
      "    Controlled Ry([qs[1]], (-3.141592653589793, qs[0]));\n",
      "    Controlled Rz([qs[1]], (-1.570796326794897, qs[0]));\n",
      "    Controlled R1([qs[1]], (-1.570796326794897, qs[0]));\n",
      "  }\n",
      "}\n",
      "\n"
     ]
    }
   ],
   "source": [
    "import quantum_decomp as qd\n",
    "print(qd.matrix_to_qsharp(A))"
   ]
  },
  {
   "cell_type": "markdown",
   "metadata": {},
   "source": [
    "As you can see from code in qsharp/ directory of this repository, this code indeed implements given unitary matrix. "
   ]
  },
  {
   "cell_type": "markdown",
   "metadata": {},
   "source": [
    "Also you can get the same sequence of operations as sequence of gates, where each gate is instance of GateFC or GateSingle, which are internal classes implementing fully controlled gate or gate acting on single qubit."
   ]
  },
  {
   "cell_type": "code",
   "execution_count": 18,
   "metadata": {},
   "outputs": [
    {
     "name": "stdout",
     "output_type": "stream",
     "text": [
      "Ry(3.141592653589793) on 0 FC qc=2 fm=0\n",
      "R1(3.141592653589793) on 0 FC qc=2 fm=0\n",
      "Ry(1.5707963267948966) on 1 FC qc=2 fm=0\n",
      "R1(3.141592653589793) on 1 FC qc=2 fm=0\n",
      "X on 1\n",
      "Ry(1.9106332362490184) on 0 FC qc=2 fm=0\n",
      "R1(3.141592653589793) on 0 FC qc=2 fm=0\n",
      "X on 1\n",
      "Rz(-1.5707963267948963) on 1 FC qc=2 fm=0\n",
      "Ry(1.5707963267948966) on 1 FC qc=2 fm=0\n",
      "Rz(1.5707963267948963) on 1 FC qc=2 fm=0\n",
      "R1(3.141592653589793) on 1 FC qc=2 fm=0\n",
      "Rz(-1.5707963267948966) on 0 FC qc=2 fm=0\n",
      "Ry(3.141592653589793) on 0 FC qc=2 fm=0\n",
      "Rz(1.5707963267948966) on 0 FC qc=2 fm=0\n",
      "R1(-1.5707963267948968) on 0 FC qc=2 fm=0\n"
     ]
    }
   ],
   "source": [
    "gates = qd.matrix_to_gates(A)\n",
    "print('\\n'.join(map(str, gates)))"
   ]
  },
  {
   "cell_type": "markdown",
   "metadata": {},
   "source": []
  },
  {
   "cell_type": "markdown",
   "metadata": {},
   "source": [
    "## Output size\n",
    "\n",
    "Number of Q# commands this tool produces is proportional to number of elements in matrix, which is $O(4^n)$, where $n$ is number of qubits in a register. As it grows very fast, unfortunately this tool is useful only for small $n$.\n",
    "\n",
    "Let's see how many Q# operations it will generate for t"
   ]
  }
 ],
 "metadata": {
  "kernelspec": {
   "display_name": "Python 3",
   "language": "python",
   "name": "python3"
  },
  "language_info": {
   "codemirror_mode": {
    "name": "ipython",
    "version": 3
   },
   "file_extension": ".py",
   "mimetype": "text/x-python",
   "name": "python",
   "nbconvert_exporter": "python",
   "pygments_lexer": "ipython3",
   "version": "3.6.8"
  }
 },
 "nbformat": 4,
 "nbformat_minor": 2
}
