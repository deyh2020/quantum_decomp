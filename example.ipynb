{
 "cells": [
  {
   "cell_type": "markdown",
   "metadata": {},
   "source": [
    "# Decomposing unitary matrix into quantum gates\n",
    "\n",
    "This tool is useful when you have $2^n \\times 2^n$ matrix representing a untary operator acting on register of $n$ bits and want to implement this operator in Q#.\n",
    "\n",
    "This notebook demonstrates how to use it."
   ]
  },
  {
   "cell_type": "markdown",
   "metadata": {},
   "source": [
    "## Tl;DR"
   ]
  },
  {
   "cell_type": "code",
   "execution_count": 1,
   "metadata": {},
   "outputs": [
    {
     "name": "stdout",
     "output_type": "stream",
     "text": [
      "operation Swap (qs : Qubit[]) : Unit {\n",
      "  CNOT(qs[1], qs[0]);\n",
      "  CNOT(qs[0], qs[1]);\n",
      "  CNOT(qs[1], qs[0]);\n",
      "}\n",
      "\n"
     ]
    }
   ],
   "source": [
    "import numpy, quantum_decomp\n",
    "SWAP = numpy.array([[1,0,0,0],[0,0,1,0],[0,1,0,0], [0,0,0,1]])\n",
    "print(quantum_decomp.matrix_to_qsharp(SWAP, op_name='Swap'))"
   ]
  },
  {
   "cell_type": "markdown",
   "metadata": {},
   "source": [
    "## Example\n",
    "\n",
    "Consider following matrix:\n",
    "\n",
    "$$A = \\frac{1}{\\sqrt{3}}\n",
    "\\begin{pmatrix}\n",
    "    1  & 1 & 1 & 0 \\\\\n",
    "    1  & e^{\\frac{2\\pi i}{3}} & e^{\\frac{4 \\pi i}{3}} & 0 \\\\\n",
    "    1  & e^{\\frac{4\\pi i}{3}} & e^{\\frac{2 \\pi i}{3}} & 0 \\\\\n",
    "    0 & 0 & 0 & -i \\sqrt{3} \n",
    "\\end{pmatrix}$$\n",
    "\n",
    "This is $3\\times 3$ [DFT matrix](https://en.wikipedia.org/wiki/DFT_matrix), padded to have shape $4 \\times 4$. Implementing such matrix was one way to solve problem B2 in [Microsoft Q# Coding Contest - Winter 2019](https://codeforces.com/blog/entry/65579).\n",
    "[Here](https://assets.codeforces.com/rounds/1116/contest-editorial.pdf) you can find another approach to implementing this matrix, but let's see how we can implement it using our tool and Q#.\n",
    "\n",
    "First, let's construct this matrix:"
   ]
  },
  {
   "cell_type": "code",
   "execution_count": 2,
   "metadata": {},
   "outputs": [
    {
     "name": "stdout",
     "output_type": "stream",
     "text": [
      "[[ 0.57735027+0.j   0.57735027+0.j   0.57735027+0.j   0.        +0.j ]\n",
      " [ 0.57735027+0.j  -0.28867513+0.5j -0.28867513-0.5j  0.        +0.j ]\n",
      " [ 0.57735027+0.j  -0.28867513-0.5j -0.28867513+0.5j  0.        +0.j ]\n",
      " [ 0.        +0.j   0.        +0.j   0.        +0.j   0.        -1.j ]]\n"
     ]
    }
   ],
   "source": [
    "import numpy as np\n",
    "w = np.exp((2j / 3) * np.pi)\n",
    "A = np.array([[1, 1, 1, 0], \n",
    "                  [1, w, w * w, 0],\n",
    "                  [1, w * w, w, 0], \n",
    "                  [0, 0, 0, -1j*np.sqrt(3)]]) / np.sqrt(3)\n",
    "print(A)"
   ]
  },
  {
   "cell_type": "markdown",
   "metadata": {},
   "source": [
    "Now, let's use quantum_decomp library to construct Q# code."
   ]
  },
  {
   "cell_type": "code",
   "execution_count": 3,
   "metadata": {
    "scrolled": true
   },
   "outputs": [
    {
     "name": "stdout",
     "output_type": "stream",
     "text": [
      "operation ApplyUnitaryMatrix (qs : Qubit[]) : Unit {\n",
      "  CNOT(qs[1], qs[0]);\n",
      "  Controlled Ry([qs[0]], (-1.570796326794897, qs[1]));\n",
      "  X(qs[1]);\n",
      "  Controlled Ry([qs[1]], (-1.910633236249018, qs[0]));\n",
      "  X(qs[1]);\n",
      "  Controlled Rz([qs[0]], (-4.712388980384691, qs[1]));\n",
      "  Controlled Ry([qs[0]], (-1.570796326794897, qs[1]));\n",
      "  Controlled Rz([qs[0]], (-1.570796326794896, qs[1]));\n",
      "  Controlled Rz([qs[1]], (-1.570796326794897, qs[0]));\n",
      "  Controlled Ry([qs[1]], (-3.141592653589793, qs[0]));\n",
      "  Controlled Rz([qs[1]], (1.570796326794897, qs[0]));\n",
      "}\n",
      "\n"
     ]
    }
   ],
   "source": [
    "import quantum_decomp as qd\n",
    "print(qd.matrix_to_qsharp(A))"
   ]
  },
  {
   "cell_type": "markdown",
   "metadata": {},
   "source": [
    "As you can see from code in qsharp/ directory of this repository, this code indeed implements given unitary matrix. "
   ]
  },
  {
   "cell_type": "markdown",
   "metadata": {},
   "source": [
    "Also you can get the same sequence of operations as sequence of gates, where each gate is instance of GateFC or GateSingle, which are internal classes implementing fully controlled gate or gate acting on single qubit."
   ]
  },
  {
   "cell_type": "code",
   "execution_count": 4,
   "metadata": {},
   "outputs": [
    {
     "name": "stdout",
     "output_type": "stream",
     "text": [
      "X on bit 0, fully controlled\n",
      "Ry(1.5707963267948966) on bit 1, fully controlled\n",
      "X on bit 1\n",
      "Ry(1.9106332362490184) on bit 0, fully controlled\n",
      "X on bit 1\n",
      "Rz(4.712388980384691) on bit 1, fully controlled\n",
      "Ry(1.5707963267948966) on bit 1, fully controlled\n",
      "Rz(1.570796326794896) on bit 1, fully controlled\n",
      "Rz(1.5707963267948972) on bit 0, fully controlled\n",
      "Ry(3.141592653589793) on bit 0, fully controlled\n",
      "Rz(-1.5707963267948972) on bit 0, fully controlled\n"
     ]
    }
   ],
   "source": [
    "gates = qd.matrix_to_gates(A)\n",
    "print('\\n'.join(map(str, gates)))"
   ]
  },
  {
   "cell_type": "markdown",
   "metadata": {},
   "source": [
    "This can be represented by a quantum circuit (made with [Q-cirquit](http://physics.unm.edu/CQuIC/Qcircuit/)):\n",
    "\n",
    "<img src=\"res/circuit1.png\">"
   ]
  },
  {
   "cell_type": "markdown",
   "metadata": {},
   "source": [
    "This is how you can view decomposition of matrix into 2-level gates, which is used to build sequence of gates."
   ]
  },
  {
   "cell_type": "code",
   "execution_count": 5,
   "metadata": {
    "scrolled": true
   },
   "outputs": [
    {
     "name": "stdout",
     "output_type": "stream",
     "text": [
      "[[0.+0.j 1.+0.j]\n",
      " [1.+0.j 0.+0.j]] on (2, 3)\n",
      "[[ 0.70710678-0.00000000e+00j  0.70710678-8.65956056e-17j]\n",
      " [-0.70710678-8.65956056e-17j  0.70710678-0.00000000e+00j]] on (1, 3)\n",
      "[[ 0.57735027-0.00000000e+00j  0.81649658-9.99919924e-17j]\n",
      " [-0.81649658-9.99919924e-17j  0.57735027-0.00000000e+00j]] on (0, 1)\n",
      "[[-7.07106781e-01+8.65956056e-17j -3.57316295e-16-7.07106781e-01j]\n",
      " [ 3.57316295e-16-7.07106781e-01j -7.07106781e-01-8.65956056e-17j]] on (1, 3)\n",
      "[[ 0.00000000e+00+0.j -5.31862526e-16-1.j]\n",
      " [ 0.00000000e+00-1.j  0.00000000e+00+0.j]] on (2, 3)\n"
     ]
    }
   ],
   "source": [
    "print('\\n'.join(map(str,qd.two_level_decompose_gray(A))))"
   ]
  },
  {
   "cell_type": "markdown",
   "metadata": {},
   "source": [
    "Those matrices are ordered in order they are applied, so to write them as a matrix product, we have to reverse them. This product can be written as follows:\n",
    "    \n",
    "$$A = \n",
    "\\begin{pmatrix} 0 & -i \\\\ -i & 0 \\end{pmatrix}_{2,3}\n",
    "\\begin{pmatrix} -\\frac{\\sqrt{2}}{2} & -\\frac{\\sqrt{2}}{2}i \\\\ -\\frac{\\sqrt{2}}{2}i & -\\frac{\\sqrt{2}}{2} \\end{pmatrix}_{1,3}\n",
    "\\begin{pmatrix} \\sqrt{\\frac{1}{3}} & \\sqrt{\\frac{2}{3}} \\\\ -\\sqrt{\\frac{2}{3}} & \\sqrt{\\frac{1}{3}} \\end{pmatrix}_{0,1}\n",
    "\\begin{pmatrix} \\frac{\\sqrt{2}}{2} & \\frac{\\sqrt{2}}{2} \\\\ -\\frac{\\sqrt{2}}{2} & \\frac{\\sqrt{2}}{2} \\end{pmatrix}_{1,3}\n",
    "\\begin{pmatrix} 0 & 1 \\\\ 1 & 0 \\end{pmatrix}_{2,3}\n",
    "$$\n",
    "\n",
    "Or, in full form:\n",
    "\n",
    "$$A = \n",
    "\\begin{pmatrix} 1 & 0 & 0 & 0 \\\\0& 1 & 0& 0 \\\\ 0 & 0 & 0 & -i \\\\ 0 & 0 & -i & 0 \\end{pmatrix}\n",
    "\\begin{pmatrix} 1 & 0 & 0 & 0 \\\\\n",
    "                0 & -\\frac{\\sqrt{2}}{2} & 0 & -\\frac{\\sqrt{2}}{2}i \\\\ \n",
    "                0 & 0 & 1 & 0 \\\\\n",
    "                0 & -\\frac{\\sqrt{2}}{2}i & 0 & -\\frac{\\sqrt{2}}{2}  \\end{pmatrix}\n",
    "\\begin{pmatrix} \\sqrt{\\frac{1}{3}} & \\sqrt{\\frac{2}{3}} & 0 & 0 \\\\\n",
    "                -\\sqrt{\\frac{2}{3}} & \\sqrt{\\frac{1}{3}} & 0 & 0 \\\\ \n",
    "                0 & 0 & 1 & 0 \\\\\n",
    "                0 & 0 & 0 & 1 \\end{pmatrix}\n",
    "\\begin{pmatrix} 1 & 0 & 0 & 0 \\\\\n",
    "                0 & \\frac{\\sqrt{2}}{2} & 0 &  \\frac{\\sqrt{2}}{2} \\\\ \n",
    "                0 & 0 & 1 & 0 \\\\\n",
    "                0 & -\\frac{\\sqrt{2}}{2} & 0 & \\frac{\\sqrt{2}}{2} \\end{pmatrix}\n",
    "\\begin{pmatrix} 1 & 0 & 0 & 0 \\\\\n",
    "                0 & 1 & 0 & 0 \\\\ \n",
    "                0 & 0 & 0 & 1 \\\\\n",
    "                0 & 0 & 1 & 0 \\end{pmatrix}\n",
    "$$\n"
   ]
  },
  {
   "cell_type": "markdown",
   "metadata": {},
   "source": [
    "## Output size\n",
    "\n",
    "Number of Q# commands this tool produces is proportional to number of elements in matrix, which is $O(4^n)$, where $n$ is number of qubits in a register. More accurately, it's asymtotically $2 \\cdot 4^n$. As it grows very fast, unfortunately this tool is useful only for small values of $n$.\n",
    "\n",
    "See detailed experimental complexity analysis of this tool in [this notebook](complexity.ipynb)."
   ]
  },
  {
   "cell_type": "markdown",
   "metadata": {},
   "source": [
    "## Implementation\n",
    "\n",
    "Implementation is based on:\n",
    "\n",
    "* Article [\"Decomposition of unitary matrices and quantum gates\"](https://arxiv.org/pdf/1210.7366.pdf) by Chi-Kwong Li and Rebecca Roberts;\n",
    "* Book \"Quantum Computing: From Linear Algebra to Physical Implementations\" (chapter 4) by Mikio Nakahara and Tetsuo Ohmi.\n",
    "\n",
    "It consists of following steps:\n",
    "\n",
    "1. Decomposing matrix into 2-level unitary matrices;\n",
    "2. Using Gray code to transform those matrices into matrices acting on states whose index differ only in one bit;\n",
    "3. Implementing those matrices as fully controled single-qubit gates;\n",
    "4. Implementing single-gate qubits as Rx, Ry and R1 gates;\n",
    "5. Optimizations: cancelling X gates and removing identity gates."
   ]
  },
  {
   "cell_type": "markdown",
   "metadata": {},
   "source": [
    "## Paper"
   ]
  },
  {
   "cell_type": "markdown",
   "metadata": {},
   "source": [
    "Algorithm used in this tool is in detail outlined in this [paper](res/Fedoriaka2019Decomposition.pdf)."
   ]
  },
  {
   "cell_type": "markdown",
   "metadata": {},
   "source": [
    "## Updates\n",
    "\n",
    "### Optimized algorithm for 4x4 unitaries (Dec 2019)\n",
    "\n",
    "In case of 4x4 unitary one can implement it in much more effective way. Generic algorithm described above will produce 18 contolled gate, each of which should be implemented with at least 2 CNOTs and 3 single-qubit gates.\n",
    "\n",
    "As proven in [this paper](https://arxiv.org/pdf/quant-ph/0308006.pdf), it's possible to implement any 4x4 unitary using not more than 3 CNOT gates and 15 elementary single-qubit Ry and Rz gates.\n",
    "\n",
    "Algorithm for such optimal decomposition is now implemented in this library. To use it, pass `optimize=True` to functions performing decomposition.\n",
    "\n",
    "This example shows optimized decomposition for matrix A defined above."
   ]
  },
  {
   "cell_type": "code",
   "execution_count": 6,
   "metadata": {},
   "outputs": [
    {
     "data": {
      "text/plain": [
       "[Rz(-2.700933836565789) on bit 0,\n",
       " Ry(1.2014428069898284) on bit 0,\n",
       " Rz(0.9746895329166837) on bit 0,\n",
       " Rz(-2.700933836565789) on bit 1,\n",
       " Ry(1.2014428069898289) on bit 1,\n",
       " Rz(2.545485852364665) on bit 1,\n",
       " X on bit 0, fully controlled,\n",
       " Rz(-4.0229102876378) on bit 0,\n",
       " Ry(0.4009261664642967) on bit 1,\n",
       " X on bit 1, fully controlled,\n",
       " Ry(-8.142534160257075) on bit 1,\n",
       " X on bit 0, fully controlled,\n",
       " Rz(-2.545485857153846) on bit 0,\n",
       " Ry(1.9401498465999647) on bit 0,\n",
       " Rz(0.44065881702400356) on bit 0,\n",
       " R1(3.141592653589793) on bit 0,\n",
       " Rz(-0.9746895281275034) on bit 1,\n",
       " Ry(1.9401498465999647) on bit 1,\n",
       " Rz(3.582251470613797) on bit 1]"
      ]
     },
     "execution_count": 6,
     "metadata": {},
     "output_type": "execute_result"
    }
   ],
   "source": [
    "qd.matrix_to_gates(A, optimize=True)"
   ]
  },
  {
   "cell_type": "code",
   "execution_count": 7,
   "metadata": {},
   "outputs": [
    {
     "name": "stdout",
     "output_type": "stream",
     "text": [
      "operation ApplyUnitaryMatrix (qs : Qubit[]) : Unit {\n",
      "  Rz(2.700933836565789, qs[0]);\n",
      "  Ry(-1.201442806989828, qs[0]);\n",
      "  Rz(-0.974689532916684, qs[0]);\n",
      "  Rz(2.700933836565789, qs[1]);\n",
      "  Ry(-1.201442806989829, qs[1]);\n",
      "  Rz(-2.545485852364665, qs[1]);\n",
      "  CNOT(qs[1], qs[0]);\n",
      "  Rz(4.022910287637800, qs[0]);\n",
      "  Ry(-0.400926166464297, qs[1]);\n",
      "  CNOT(qs[0], qs[1]);\n",
      "  Ry(8.142534160257075, qs[1]);\n",
      "  CNOT(qs[1], qs[0]);\n",
      "  Rz(2.545485857153846, qs[0]);\n",
      "  Ry(-1.940149846599965, qs[0]);\n",
      "  Rz(-0.440658817024004, qs[0]);\n",
      "  R1(3.141592653589793, qs[0]);\n",
      "  Rz(0.974689528127503, qs[1]);\n",
      "  Ry(-1.940149846599965, qs[1]);\n",
      "  Rz(-3.582251470613797, qs[1]);\n",
      "}\n",
      "\n"
     ]
    }
   ],
   "source": [
    "print(qd.matrix_to_qsharp(A, optimize=True))"
   ]
  },
  {
   "cell_type": "markdown",
   "metadata": {},
   "source": [
    "### Circ support (Dec 2019)\n",
    "\n",
    "Now it's possible to convert unitary matrix to [Cirq](https://github.com/quantumlib/Cirq) circquit.\n",
    "\n",
    "You don't need to install Cirq to use the library, unless you want to have output as Cirq cirquit.\n",
    "\n",
    "See examples below."
   ]
  },
  {
   "cell_type": "code",
   "execution_count": 8,
   "metadata": {},
   "outputs": [
    {
     "name": "stdout",
     "output_type": "stream",
     "text": [
      "0: ───@───X───@───\n",
      "      │   │   │\n",
      "1: ───X───@───X───\n"
     ]
    }
   ],
   "source": [
    "print(qd.matrix_to_cirq_circuit(SWAP))"
   ]
  },
  {
   "cell_type": "code",
   "execution_count": 9,
   "metadata": {},
   "outputs": [
    {
     "data": {
      "text/html": [
       "<pre style=\"overflow: auto; white-space: pre;\">0: ───@───Ry(-0.5π)───X───@─────────────X───Rz(-1.5π)───Ry(-0.5π)───Rz(-0.5π)───@───────────@────────@──────────\n",
       "      │   │               │                 │           │           │           │           │        │\n",
       "1: ───X───@───────────────Ry(-0.608π)───────@───────────@───────────@───────────Rz(-0.5π)───Ry(-π)───Rz(0.5π)───</pre>"
      ],
      "text/plain": [
       "0: ───@───Ry(-0.5π)───X───@─────────────X───Rz(-1.5π)───Ry(-0.5π)───Rz(-0.5π)───@───────────@────────@──────────\n",
       "      │   │               │                 │           │           │           │           │        │\n",
       "1: ───X───@───────────────Ry(-0.608π)───────@───────────@───────────@───────────Rz(-0.5π)───Ry(-π)───Rz(0.5π)───"
      ]
     },
     "execution_count": 9,
     "metadata": {},
     "output_type": "execute_result"
    }
   ],
   "source": [
    "qd.matrix_to_cirq_circuit(A)"
   ]
  },
  {
   "cell_type": "markdown",
   "metadata": {},
   "source": [
    "To verify it's correct, let's convert random unitary to Cirq circuit, and then convert circuit back to matrix, and make sure we get the same matrix."
   ]
  },
  {
   "cell_type": "code",
   "execution_count": 10,
   "metadata": {},
   "outputs": [
    {
     "data": {
      "text/plain": [
       "4.319943050848552e-15"
      ]
     },
     "execution_count": 10,
     "metadata": {},
     "output_type": "execute_result"
    }
   ],
   "source": [
    "from scipy.stats import unitary_group\n",
    "U = unitary_group.rvs(16)\n",
    "np.linalg.norm(U - qd.matrix_to_cirq_circuit(U).unitary())"
   ]
  },
  {
   "cell_type": "markdown",
   "metadata": {},
   "source": [
    "### Qiskit support (Dec 2020)\n",
    "\n",
    "*Feature added by [Ryan Vandersmith](https://github.com/rvanasa).*"
   ]
  },
  {
   "cell_type": "code",
   "execution_count": 11,
   "metadata": {},
   "outputs": [
    {
     "name": "stdout",
     "output_type": "stream",
     "text": [
      "     ┌───┐     ┌───┐\n",
      "q_0: ┤ X ├──■──┤ X ├\n",
      "     └─┬─┘┌─┴─┐└─┬─┘\n",
      "q_1: ──■──┤ X ├──■──\n",
      "          └───┘     \n"
     ]
    }
   ],
   "source": [
    "print(qd.matrix_to_qiskit_circuit(SWAP))"
   ]
  },
  {
   "cell_type": "code",
   "execution_count": 12,
   "metadata": {},
   "outputs": [
    {
     "name": "stdout",
     "output_type": "stream",
     "text": [
      "     ┌───┐                 ┌─────────────┐                              »\n",
      "q_0: ┤ X ├─────■───────────┤ RY(-1.9106) ├───────────■───────────■──────»\n",
      "     └─┬─┘┌────┴─────┐┌───┐└──────┬──────┘┌───┐┌─────┴─────┐┌────┴─────┐»\n",
      "q_1: ──■──┤ RY(-π/2) ├┤ X ├───────■───────┤ X ├┤ RZ(-3π/2) ├┤ RY(-π/2) ├»\n",
      "          └──────────┘└───┘               └───┘└───────────┘└──────────┘»\n",
      "«                 ┌──────────┐┌────────┐┌─────────┐\n",
      "«q_0: ─────■──────┤ RZ(-π/2) ├┤ RY(-π) ├┤ RZ(π/2) ├\n",
      "«     ┌────┴─────┐└────┬─────┘└───┬────┘└────┬────┘\n",
      "«q_1: ┤ RZ(-π/2) ├─────■──────────■──────────■─────\n",
      "«     └──────────┘                                 \n"
     ]
    }
   ],
   "source": [
    "A_qiskit = qd.matrix_to_qiskit_circuit(A)\n",
    "print(A_qiskit)"
   ]
  },
  {
   "cell_type": "code",
   "execution_count": 13,
   "metadata": {},
   "outputs": [
    {
     "data": {
      "text/plain": [
       "7.435873581253076e-16"
      ]
     },
     "execution_count": 13,
     "metadata": {},
     "output_type": "execute_result"
    }
   ],
   "source": [
    "# Verify correctness of decompostion.\n",
    "import qiskit.quantum_info as qi\n",
    "np.linalg.norm(qi.Operator(A_qiskit).data - A)"
   ]
  }
 ],
 "metadata": {
  "kernelspec": {
   "display_name": "Python 3",
   "language": "python",
   "name": "python3"
  },
  "language_info": {
   "codemirror_mode": {
    "name": "ipython",
    "version": 3
   },
   "file_extension": ".py",
   "mimetype": "text/x-python",
   "name": "python",
   "nbconvert_exporter": "python",
   "pygments_lexer": "ipython3",
   "version": "3.8.5"
  }
 },
 "nbformat": 4,
 "nbformat_minor": 2
}
