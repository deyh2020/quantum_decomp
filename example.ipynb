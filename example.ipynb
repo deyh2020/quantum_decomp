{
 "cells": [
  {
   "cell_type": "markdown",
   "metadata": {},
   "source": [
    "# Decomposing unitary matrix into quantum gates\n",
    "\n",
    "This tool is useful when you have $2^n \\times 2^n$ matrix representing a untary operator acting on register of $n$ bits and want to implement this operator in Q#."
   ]
  },
  {
   "cell_type": "markdown",
   "metadata": {},
   "source": [
    "## Example\n",
    "\n",
    "Consider following matrix:\n",
    "\n",
    "$$\\frac{1}{\\sqrt{3}}\n",
    "\\begin{bmatrix}\n",
    "    1  & 1 & 1 & 0 \\\\\n",
    "    1  & e^{\\frac{2\\pi i}{3}} & e^{\\frac{4 \\pi i}{3}} & 0 \\\\\n",
    "    1  & e^{\\frac{4\\pi i}{3}} & e^{\\frac{2 \\pi i}{3}} & 0 \\\\\n",
    "    0 & 0 & 0 & \\sqrt{3} \n",
    "\\end{bmatrix}$$\n",
    "\n",
    "This is $3\\times 3$ [DFT matrix](https://en.wikipedia.org/wiki/DFT_matrix), padded to have shape $4 \\times 4$. Implementing such matrix was one way to solve problem B2 in [Microsoft Q# Coding Contest - Winter 2019](https://codeforces.com/blog/entry/65579).\n",
    "[Here](https://assets.codeforces.com/rounds/1116/contest-editorial.pdf) you can find another approach to implementing this matrix, but let's see how we can implement it using our tool and Q#.\n",
    "\n",
    "First, let's construct this matrix:"
   ]
  },
  {
   "cell_type": "code",
   "execution_count": 1,
   "metadata": {},
   "outputs": [
    {
     "name": "stdout",
     "output_type": "stream",
     "text": [
      "[[ 0.57735027+0.j   0.57735027+0.j   0.57735027+0.j   0.        +0.j ]\n",
      " [ 0.57735027+0.j  -0.28867513+0.5j -0.28867513-0.5j  0.        +0.j ]\n",
      " [ 0.57735027+0.j  -0.28867513-0.5j -0.28867513+0.5j  0.        +0.j ]\n",
      " [ 0.        +0.j   0.        +0.j   0.        +0.j   1.        +0.j ]]\n"
     ]
    }
   ],
   "source": [
    "import numpy as np\n",
    "w = np.exp((2j / 3) * np.pi)\n",
    "A = np.array([[1, 1, 1, 0], \n",
    "                  [1, w, w * w, 0],\n",
    "                  [1, w * w, w, 0], \n",
    "                  [0, 0, 0, np.sqrt(3)]]) / np.sqrt(3)\n",
    "print(A)"
   ]
  },
  {
   "cell_type": "markdown",
   "metadata": {},
   "source": [
    "Now, let's use quantum_decomp library to construct Q# code."
   ]
  },
  {
   "cell_type": "code",
   "execution_count": 2,
   "metadata": {
    "scrolled": true
   },
   "outputs": [
    {
     "name": "stdout",
     "output_type": "stream",
     "text": [
      "operation ApplyUnitaryMatrix (qs : Qubit[]) : Unit {\n",
      "body (...) {\n",
      "    Controlled Ry([qs[1]], (-3.141592653589793, qs[0]));\n",
      "    Controlled R1([qs[1]], (3.141592653589793, qs[0]));\n",
      "    Controlled Ry([qs[0]], (-1.570796326794897, qs[1]));\n",
      "    Controlled R1([qs[0]], (3.141592653589793, qs[1]));\n",
      "    X(qs[1]);\n",
      "    Controlled Ry([qs[1]], (-1.910633236249018, qs[0]));\n",
      "    Controlled R1([qs[1]], (3.141592653589793, qs[0]));\n",
      "    X(qs[1]);\n",
      "    Controlled Rz([qs[0]], (1.570796326794896, qs[1]));\n",
      "    Controlled Ry([qs[0]], (-1.570796326794897, qs[1]));\n",
      "    Controlled Rz([qs[0]], (-1.570796326794896, qs[1]));\n",
      "    Controlled R1([qs[0]], (3.141592653589793, qs[1]));\n",
      "    Controlled Rz([qs[1]], (1.570796326794897, qs[0]));\n",
      "    Controlled Ry([qs[1]], (-3.141592653589793, qs[0]));\n",
      "    Controlled Rz([qs[1]], (-1.570796326794897, qs[0]));\n",
      "    Controlled R1([qs[1]], (-1.570796326794897, qs[0]));\n",
      "  }\n",
      "}\n",
      "\n"
     ]
    }
   ],
   "source": [
    "import quantum_decomp as qd\n",
    "print(qd.matrix_to_qsharp(A))"
   ]
  },
  {
   "cell_type": "markdown",
   "metadata": {},
   "source": [
    "As you can see from code in qsharp/ directory of this repository, this code indeed implements given unitary matrix. "
   ]
  },
  {
   "cell_type": "markdown",
   "metadata": {},
   "source": [
    "Also you can get the same sequence of operations as sequence of gates, where each gate is instance of GateFC or GateSingle, which are internal classes implementing fully controlled gate or gate acting on single qubit."
   ]
  },
  {
   "cell_type": "code",
   "execution_count": 3,
   "metadata": {},
   "outputs": [
    {
     "name": "stdout",
     "output_type": "stream",
     "text": [
      "Ry(3.141592653589793) on bit 0, fully controlled\n",
      "R1(3.141592653589793) on bit 0, fully controlled\n",
      "Ry(1.5707963267948966) on bit 1, fully controlled\n",
      "R1(3.141592653589793) on bit 1, fully controlled\n",
      "X on bit 1\n",
      "Ry(1.9106332362490184) on bit 0, fully controlled\n",
      "R1(3.141592653589793) on bit 0, fully controlled\n",
      "X on bit 1\n",
      "Rz(-1.5707963267948963) on bit 1, fully controlled\n",
      "Ry(1.5707963267948966) on bit 1, fully controlled\n",
      "Rz(1.5707963267948963) on bit 1, fully controlled\n",
      "R1(3.141592653589793) on bit 1, fully controlled\n",
      "Rz(-1.5707963267948966) on bit 0, fully controlled\n",
      "Ry(3.141592653589793) on bit 0, fully controlled\n",
      "Rz(1.5707963267948966) on bit 0, fully controlled\n",
      "R1(-1.5707963267948968) on bit 0, fully controlled\n"
     ]
    }
   ],
   "source": [
    "gates = qd.matrix_to_gates(A)\n",
    "print('\\n'.join(map(str, gates)))"
   ]
  },
  {
   "cell_type": "markdown",
   "metadata": {},
   "source": [
    "Let's consider another, simpler example - SWAP gate.\n",
    "\n",
    "$$SWAP = \n",
    "\\begin{bmatrix}\n",
    "    1 & 0 & 0 & 0 \\\\\n",
    "    0 & 0 & 1 & 0 \\\\\n",
    "    0 & 1 & 0 & 0 \\\\\n",
    "    0 & 0 & 0 & 1 \\\\\n",
    "\\end{bmatrix}$$\n",
    "\n",
    "Here is its decomposition:"
   ]
  },
  {
   "cell_type": "code",
   "execution_count": 4,
   "metadata": {},
   "outputs": [
    {
     "name": "stdout",
     "output_type": "stream",
     "text": [
      "operation ApplyUnitaryMatrix (qs : Qubit[]) : Unit {\n",
      "body (...) {\n",
      "    Controlled Ry([qs[1]], (-3.141592653589793, qs[0]));\n",
      "    Controlled R1([qs[1]], (3.141592653589793, qs[0]));\n",
      "    Controlled Ry([qs[0]], (-3.141592653589793, qs[1]));\n",
      "    Controlled R1([qs[0]], (3.141592653589793, qs[1]));\n",
      "    Controlled Ry([qs[1]], (-3.141592653589793, qs[0]));\n",
      "    Controlled R1([qs[1]], (3.141592653589793, qs[0]));\n",
      "  }\n",
      "}\n",
      "\n"
     ]
    }
   ],
   "source": [
    "SWAP = np.matrix([[1,0,0,0],[0,0,1,0],[0,1,0,0], [0,0,0,1]])\n",
    "print(qd.matrix_to_qsharp(SWAP))"
   ]
  },
  {
   "cell_type": "markdown",
   "metadata": {},
   "source": [
    "## Output size\n",
    "\n",
    "Number of Q# commands this tool produces is proportional to number of elements in matrix, which is $O(4^n)$, where $n$ is number of qubits in a register. As it grows very fast, unfortunately this tool is useful only for small $n$.\n",
    "\n",
    "Let's see how many Q# operations it will generate for random unitary matrices of different size and calculate how many operatons per matrix element it generates. You can use these numbers to estimate is it reasonable to use this tool for your purposes.\n",
    "\n"
   ]
  },
  {
   "cell_type": "code",
   "execution_count": 5,
   "metadata": {},
   "outputs": [
    {
     "name": "stdout",
     "output_type": "stream",
     "text": [
      "1 qubits: 4 gates \t(1.00 gates per matrix element).\n",
      "2 qubits: 26 gates \t(1.62 gates per matrix element).\n",
      "3 qubits: 140 gates \t(2.19 gates per matrix element).\n",
      "4 qubits: 610 gates \t(2.38 gates per matrix element).\n",
      "5 qubits: 2516 gates \t(2.46 gates per matrix element).\n",
      "6 qubits: 10182 gates \t(2.49 gates per matrix element).\n",
      "7 qubits: 40904 gates \t(2.50 gates per matrix element).\n"
     ]
    }
   ],
   "source": [
    "from scipy.stats import unitary_group\n",
    "for qubits_count in range(1,8):\n",
    "    gates_count = len(qd.matrix_to_gates(unitary_group.rvs(2 ** qubits_count)))\n",
    "    print(\"%d qubits: %d gates \\t(%.02f gates per matrix element).\" % \n",
    "          (qubits_count, gates_count, gates_count/(4**qubits_count)))    "
   ]
  },
  {
   "cell_type": "markdown",
   "metadata": {},
   "source": [
    "## Implementation\n",
    "\n",
    "Implementation is based on:\n",
    "\n",
    "* Article [\"Decomposition of unitary matrices and quantum gates\"](https://arxiv.org/pdf/1210.7366.pdf) by Chi-Kwong Li and Rebecca Roberts;\n",
    "* Book \"Quantum Computing: From Linear Algebra to Physical Implementations\" (chapter 4) by Mikio Nakahara and Tetsuo Ohmi.\n",
    "\n",
    "It consists of following steps:\n",
    "\n",
    "1. Decomposing matrix into 2-level unitary matrices;\n",
    "2. Using Gray code to transform those matrices into matrices acting on states whose index differ only in one bit;\n",
    "3. Implementing those matrices as fully controled single-qubit gates;\n",
    "4. Implementing single-gate qubits as Rx, Ry and R1 gates;\n",
    "5. Optimizations: cancelling X gates and removing identity gates."
   ]
  }
 ],
 "metadata": {
  "kernelspec": {
   "display_name": "Python 3",
   "language": "python",
   "name": "python3"
  },
  "language_info": {
   "codemirror_mode": {
    "name": "ipython",
    "version": 3
   },
   "file_extension": ".py",
   "mimetype": "text/x-python",
   "name": "python",
   "nbconvert_exporter": "python",
   "pygments_lexer": "ipython3",
   "version": "3.6.8"
  }
 },
 "nbformat": 4,
 "nbformat_minor": 2
}
